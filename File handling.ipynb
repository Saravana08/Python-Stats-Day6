{
 "cells": [
  {
   "cell_type": "markdown",
   "metadata": {},
   "source": [
    "# File Handling"
   ]
  },
  {
   "cell_type": "code",
   "execution_count": null,
   "metadata": {
    "collapsed": true
   },
   "outputs": [],
   "source": [
    "import os\n",
    "os.chdir('C:/Users/saravana.ayyappa/Desktop/Machine Learning')"
   ]
  },
  {
   "cell_type": "code",
   "execution_count": 25,
   "metadata": {
    "collapsed": true
   },
   "outputs": [],
   "source": [
    "# 'r'\tThis is the default mode. It Opens file for reading.\n",
    "\n",
    "# 'w'\tThis Mode Opens file for writing.\n",
    "#If file does not exist, it creates a new file.\n",
    "#If file exists it truncates the file.\n",
    "\n",
    "# 'x'\tCreates a new file. If file already exists, the operation fails.\n",
    "\n",
    "# 'a'\tOpen file in append mode.\n",
    "#If file does not exist, it creates a new file.\n",
    "\n",
    "# '+'\tThis will open a file for reading and writing (updating)"
   ]
  },
  {
   "cell_type": "code",
   "execution_count": 18,
   "metadata": {
    "collapsed": true
   },
   "outputs": [],
   "source": [
    "# Opening the document"
   ]
  },
  {
   "cell_type": "code",
   "execution_count": 8,
   "metadata": {},
   "outputs": [
    {
     "name": "stdout",
     "output_type": "stream",
     "text": [
      "['\"Month\",\"Sales\"\\n', '\"1-01\",266.0\\n', '\"1-02\",145.9\\n', '\"1-03\",183.1\\n', '\"1-04\",119.3\\n', '\"1-05\",180.3\\n', '\"1-06\",168.5\\n', '\"1-07\",231.8\\n', '\"1-08\",224.5\\n', '\"1-09\",192.8\\n', '\"1-10\",122.9\\n', '\"1-11\",336.5\\n', '\"1-12\",185.9\\n', '\"2-01\",194.3\\n', '\"2-02\",149.5\\n', '\"2-03\",210.1\\n', '\"2-04\",273.3\\n', '\"2-05\",191.4\\n', '\"2-06\",287.0\\n', '\"2-07\",226.0\\n', '\"2-08\",303.6\\n', '\"2-09\",289.9\\n', '\"2-10\",421.6\\n', '\"2-11\",264.5\\n', '\"2-12\",342.3\\n', '\"3-01\",339.7\\n', '\"3-02\",440.4\\n', '\"3-03\",315.9\\n', '\"3-04\",439.3\\n', '\"3-05\",401.3\\n', '\"3-06\",437.4\\n', '\"3-07\",575.5\\n', '\"3-08\",407.6\\n', '\"3-09\",682.0\\n', '\"3-10\",475.3\\n', '\"3-11\",581.3\\n', '\"3-12\",646.9']\n"
     ]
    }
   ],
   "source": [
    "data = open('shampoo.txt','r')\n",
    "print(data.readlines())"
   ]
  },
  {
   "cell_type": "code",
   "execution_count": 19,
   "metadata": {
    "collapsed": true
   },
   "outputs": [],
   "source": [
    "# creating the document"
   ]
  },
  {
   "cell_type": "code",
   "execution_count": 21,
   "metadata": {},
   "outputs": [],
   "source": [
    "f= open(\"etl.txt\",\"w+\")\n",
    "for i in range(10):\n",
    "     f.write(\"This is line %d\\r\\n\" % (i+1))\n",
    "f.close()        "
   ]
  },
  {
   "cell_type": "code",
   "execution_count": 22,
   "metadata": {
    "collapsed": true
   },
   "outputs": [],
   "source": [
    "# To append to an existing file\n",
    "\n",
    "f=open(\"etl.txt\", \"a+\")\n",
    "for i in range(2):\n",
    "     f.write(\"Appended line %d\\r\\n\" % (i+1))\n",
    "f.close()"
   ]
  }
 ],
 "metadata": {
  "kernelspec": {
   "display_name": "Python 3",
   "language": "python",
   "name": "python3"
  },
  "language_info": {
   "codemirror_mode": {
    "name": "ipython",
    "version": 3
   },
   "file_extension": ".py",
   "mimetype": "text/x-python",
   "name": "python",
   "nbconvert_exporter": "python",
   "pygments_lexer": "ipython3",
   "version": "3.6.2"
  }
 },
 "nbformat": 4,
 "nbformat_minor": 2
}
